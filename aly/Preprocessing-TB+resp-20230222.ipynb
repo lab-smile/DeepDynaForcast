{
 "cells": [
  {
   "cell_type": "code",
   "execution_count": 3,
   "id": "06cb8620",
   "metadata": {},
   "outputs": [
    {
     "name": "stdout",
     "output_type": "stream",
     "text": [
      "/mnt/data2/chaoyue/data/ddf_resp_20230131/split_rs123/valid_edge.csv\n",
      "/mnt/data2/chaoyue/data/ddf_resp_20230131/split_rs123/test.csv\n",
      "/mnt/data2/chaoyue/data/ddf_resp_20230131/split_rs123/test_edge.csv\n",
      "/mnt/data2/chaoyue/data/ddf_resp_20230131/split_rs123/train.csv\n",
      "/mnt/data2/chaoyue/data/ddf_resp_20230131/split_rs123/train_edge.csv\n",
      "/mnt/data2/chaoyue/data/ddf_resp_20230131/split_rs123/valid.csv\n"
     ]
    }
   ],
   "source": [
    "import numpy as np # linear algebra\n",
    "import pandas as pd # data processing, CSV file I/O (e.g. pd.read_csv)\n",
    "\n",
    "# Input data files are available in the read-only \"../data/\" directory\n",
    "\n",
    "import os\n",
    "import os.path as osp\n",
    "\n",
    "date = '20230223'\n",
    "ds_name = 'resp+TB'\n",
    "#resp_folder = f'/mnt/data2/chaoyue/data/ddf_resp_20221130/split_rs123' # IN paper the ARI+TB was constructed by resp_20221130\n",
    "resp_folder = f'/mnt/data2/chaoyue/data/ddf_resp_20230131/split_rs123'\n",
    "for dirname, _, filenames in os.walk(resp_folder):\n",
    "    for filename in filenames:\n",
    "        print(os.path.join(dirname, filename))"
   ]
  },
  {
   "cell_type": "code",
   "execution_count": 2,
   "id": "e39086d6",
   "metadata": {},
   "outputs": [
    {
     "name": "stdout",
     "output_type": "stream",
     "text": [
      "/mnt/data2/chaoyue/data/ddf_TB_20230223/split_rs123/valid_edge.csv\n",
      "/mnt/data2/chaoyue/data/ddf_TB_20230223/split_rs123/test.csv\n",
      "/mnt/data2/chaoyue/data/ddf_TB_20230223/split_rs123/test_edge.csv\n",
      "/mnt/data2/chaoyue/data/ddf_TB_20230223/split_rs123/train.csv\n",
      "/mnt/data2/chaoyue/data/ddf_TB_20230223/split_rs123/train_edge.csv\n",
      "/mnt/data2/chaoyue/data/ddf_TB_20230223/split_rs123/valid.csv\n"
     ]
    }
   ],
   "source": [
    "tb_folder = f'/mnt/data2/chaoyue/data/ddf_TB_20230223/split_rs123'\n",
    "for dirname, _, filenames in os.walk(tb_folder):\n",
    "    for filename in filenames:\n",
    "        print(os.path.join(dirname, filename))"
   ]
  },
  {
   "cell_type": "code",
   "execution_count": 3,
   "id": "d144f4d5",
   "metadata": {},
   "outputs": [],
   "source": [
    "import numpy as np\n",
    "import pandas as pd\n",
    "import seaborn as sns\n",
    "import scipy.stats as stats\n",
    "from scipy.stats import norm\n",
    "#import statsmodels.api as sm\n",
    "import matplotlib.pyplot as plt\n",
    "from scipy.stats import skew, norm\n",
    "from sklearn.neighbors import KNeighborsRegressor\n",
    "from sklearn import preprocessing\n",
    "%matplotlib inline\n",
    "\n",
    "# Set it to None to display all columns in the dataframe\n",
    "pd.set_option('display.max_columns', None)"
   ]
  },
  {
   "cell_type": "code",
   "execution_count": 4,
   "id": "16cf03b3",
   "metadata": {},
   "outputs": [],
   "source": [
    "random_seed = 123\n",
    "date='20230222'\n",
    "np.random.seed(random_seed)\n",
    "split_folder = f'/mnt/data2/chaoyue/data/ddf_resp+TB_{date}/split_rs{random_seed}'\n",
    "os.makedirs(split_folder, exist_ok=True)"
   ]
  },
  {
   "cell_type": "code",
   "execution_count": 5,
   "id": "a60ce3d5",
   "metadata": {
    "scrolled": true
   },
   "outputs": [
    {
     "name": "stdout",
     "output_type": "stream",
     "text": [
      "valid_edge.csv\n",
      "10257707\n",
      "3152\n",
      "test.csv\n",
      "10265265\n",
      "3152\n",
      "test_edge.csv\n",
      "10262113\n",
      "3152\n",
      "train.csv\n",
      "30734664\n",
      "9452\n",
      "train_edge.csv\n",
      "30725212\n",
      "9452\n",
      "valid.csv\n",
      "10260859\n",
      "3152\n"
     ]
    }
   ],
   "source": [
    "for dirname, _, filenames in os.walk(resp_folder):\n",
    "    for filename in filenames:\n",
    "        TB_df = pd.read_csv(f'{tb_folder}/{filename}')\n",
    "        resp_df = pd.read_csv(f'{resp_folder}/{filename}')\n",
    "        TB_df['sim'] = TB_df['sim']+10000\n",
    "        full_df = pd.concat([resp_df,TB_df],ignore_index=True)\n",
    "        print(filename)\n",
    "        print(len(full_df))\n",
    "        print(len(full_df['sim'].unique()))\n",
    "        full_df.to_csv(f'{split_folder}/{filename}', index=False)"
   ]
  },
  {
   "cell_type": "code",
   "execution_count": 9,
   "id": "4bfef8a4",
   "metadata": {},
   "outputs": [
    {
     "data": {
      "text/plain": [
       "-3152"
      ]
     },
     "execution_count": 9,
     "metadata": {},
     "output_type": "execute_result"
    }
   ],
   "source": [
    "10257707-10260859"
   ]
  },
  {
   "cell_type": "code",
   "execution_count": 10,
   "id": "0fe4abf6",
   "metadata": {},
   "outputs": [
    {
     "data": {
      "text/plain": [
       "-3152"
      ]
     },
     "execution_count": 10,
     "metadata": {},
     "output_type": "execute_result"
    }
   ],
   "source": [
    "10262113-10265265"
   ]
  },
  {
   "cell_type": "code",
   "execution_count": 11,
   "id": "3d07f788",
   "metadata": {},
   "outputs": [
    {
     "data": {
      "text/plain": [
       "-9452"
      ]
     },
     "execution_count": 11,
     "metadata": {},
     "output_type": "execute_result"
    }
   ],
   "source": [
    "30725212-30734664"
   ]
  },
  {
   "cell_type": "code",
   "execution_count": 12,
   "id": "96c369ae",
   "metadata": {},
   "outputs": [],
   "source": [
    "filename = 'train.csv'\n",
    "TB_df = pd.read_csv(f'{tb_folder}/{filename}')\n",
    "resp_df = pd.read_csv(f'{resp_folder}/{filename}')\n",
    "TB_df['sim'] = TB_df['sim']+10000\n",
    "full_node_df = pd.concat([resp_df,TB_df],ignore_index=True)\n"
   ]
  },
  {
   "cell_type": "code",
   "execution_count": 13,
   "id": "e0a89dc3",
   "metadata": {},
   "outputs": [],
   "source": [
    "filename = 'train_edge.csv'\n",
    "TB_df = pd.read_csv(f'{tb_folder}/{filename}')\n",
    "resp_df = pd.read_csv(f'{resp_folder}/{filename}')\n",
    "TB_df['sim'] = TB_df['sim']+10000\n",
    "full_df = pd.concat([resp_df,TB_df],ignore_index=True)"
   ]
  },
  {
   "cell_type": "code",
   "execution_count": 14,
   "id": "bf91c08d",
   "metadata": {},
   "outputs": [],
   "source": [
    "train_ids = full_df['sim'].unique()"
   ]
  },
  {
   "cell_type": "code",
   "execution_count": 15,
   "id": "558f3173",
   "metadata": {},
   "outputs": [],
   "source": [
    "c1 = 0\n",
    "c2 = 0\n",
    "c3 = 0\n",
    "for onetree_id in train_ids:\n",
    "    onetree_node_df = full_node_df[full_node_df['sim'] == onetree_id]\n",
    "    onetree_edge_df = full_df[full_df['sim'] == onetree_id]\n",
    "    leaves = list(set(onetree_edge_df['new_to'].values)-set(onetree_edge_df['new_from'].values))\n",
    "    leaf_df = onetree_node_df[onetree_node_df['node'].isin(leaves)]\n",
    "    c1 += len(leaf_df[leaf_df['dynamic'] == 'static'])\n",
    "    c2 += len(leaf_df[leaf_df['dynamic'] == 'decay'])\n",
    "    c3 += len(leaf_df[leaf_df['dynamic'] == 'growth'])"
   ]
  },
  {
   "cell_type": "code",
   "execution_count": 16,
   "id": "9f59ba93",
   "metadata": {},
   "outputs": [
    {
     "data": {
      "text/plain": [
       "[0.3406808892621469, 51.519496230514754, 22.079112613356273]"
      ]
     },
     "execution_count": 16,
     "metadata": {},
     "output_type": "execute_result"
    }
   ],
   "source": [
    "[(c1+c2+c3)/(i*3) for i in [c1,c2,c3]]"
   ]
  },
  {
   "cell_type": "code",
   "execution_count": null,
   "id": "422b9680",
   "metadata": {},
   "outputs": [],
   "source": []
  }
 ],
 "metadata": {
  "kernelspec": {
   "display_name": "Python 3 (ipykernel)",
   "language": "python",
   "name": "python3"
  },
  "language_info": {
   "codemirror_mode": {
    "name": "ipython",
    "version": 3
   },
   "file_extension": ".py",
   "mimetype": "text/x-python",
   "name": "python",
   "nbconvert_exporter": "python",
   "pygments_lexer": "ipython3",
   "version": "3.8.12"
  }
 },
 "nbformat": 4,
 "nbformat_minor": 5
}
